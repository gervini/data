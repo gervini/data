{
  "nbformat": 4,
  "nbformat_minor": 0,
  "metadata": {
    "colab": {
      "name": "colab_0.ipynb",
      "provenance": [],
      "collapsed_sections": [],
      "mount_file_id": "1jfKIRuUHUsymwV2hsQ-8w_Y32R_cJRyk",
      "authorship_tag": "ABX9TyP2ENY/F9CsntS+Azx98doD",
      "include_colab_link": true
    },
    "kernelspec": {
      "name": "python3",
      "display_name": "Python 3"
    },
    "language_info": {
      "name": "python"
    }
  },
  "cells": [
    {
      "cell_type": "markdown",
      "metadata": {
        "id": "view-in-github",
        "colab_type": "text"
      },
      "source": [
        "<a href=\"https://colab.research.google.com/github/gervini/data/blob/main/colab_0.ipynb\" target=\"_parent\"><img src=\"https://colab.research.google.com/assets/colab-badge.svg\" alt=\"Open In Colab\"/></a>"
      ]
    },
    {
      "cell_type": "code",
      "metadata": {
        "id": "L2MrzyiPiMHU",
        "colab": {
          "base_uri": "https://localhost:8080/"
        },
        "outputId": "da50cc24-8bd7-4e03-9a71-c1763fb1ca1b"
      },
      "source": [
        "import os\n",
        "\n",
        "# Clona diretorio 'data' do Github caso não exista\n",
        "%cd /content/\n",
        "if not os.path.exists('data'):\n",
        "  !git clone https://github.com/gervini/data\n",
        "print('-------------')\n",
        "!ls /content/data/\n",
        "print('-------------')\n",
        "\n",
        "# Cria Atalho 'mydrive' para Google Drive caso não exista\n",
        "if not os.path.exists('/mydrive'):\n",
        "  !ln -s /content/drive/My\\ Drive/ /mydrive\n",
        "#!rm -rf /mydrive/   # CUIDADO APAGA TUDO DO DRIVE\n",
        "print('-------------')\n",
        "!ls /mydrive/\n",
        "print('-------------')\n",
        "\n"
      ],
      "execution_count": 1,
      "outputs": [
        {
          "output_type": "stream",
          "text": [
            "/content\n",
            "Cloning into 'data'...\n",
            "remote: Enumerating objects: 18, done.\u001b[K\n",
            "remote: Counting objects: 100% (18/18), done.\u001b[K\n",
            "remote: Compressing objects: 100% (12/12), done.\u001b[K\n",
            "remote: Total 18 (delta 2), reused 0 (delta 0), pack-reused 0\u001b[K\n",
            "Unpacking objects: 100% (18/18), done.\n",
            "-------------\n",
            "colab_0.ipynb\n",
            "-------------\n",
            "-------------\n",
            "'Colab Notebooks'   rwn.py  'São Miguel 2021_05_08x'   yolo\n",
            "-------------\n"
          ],
          "name": "stdout"
        }
      ]
    },
    {
      "cell_type": "code",
      "metadata": {
        "id": "-LrjlXvwEBbk"
      },
      "source": [
        ""
      ],
      "execution_count": 23,
      "outputs": []
    },
    {
      "cell_type": "code",
      "metadata": {
        "id": "PIdQ2w5PEl90"
      },
      "source": [
        ""
      ],
      "execution_count": null,
      "outputs": []
    }
  ]
}