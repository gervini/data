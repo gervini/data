{
  "nbformat": 4,
  "nbformat_minor": 0,
  "metadata": {
    "colab": {
      "name": "colab_0.ipynb",
      "provenance": [],
      "mount_file_id": "1jfKIRuUHUsymwV2hsQ-8w_Y32R_cJRyk",
      "authorship_tag": "ABX9TyOET/76sGjHpb4ReGXxuH2f",
      "include_colab_link": true
    },
    "kernelspec": {
      "name": "python3",
      "display_name": "Python 3"
    },
    "language_info": {
      "name": "python"
    }
  },
  "cells": [
    {
      "cell_type": "markdown",
      "metadata": {
        "id": "view-in-github",
        "colab_type": "text"
      },
      "source": [
        "<a href=\"https://colab.research.google.com/github/gervini/data/blob/main/colab_0.ipynb\" target=\"_parent\"><img src=\"https://colab.research.google.com/assets/colab-badge.svg\" alt=\"Open In Colab\"/></a>"
      ]
    },
    {
      "cell_type": "code",
      "metadata": {
        "id": "L2MrzyiPiMHU",
        "colab": {
          "base_uri": "https://localhost:8080/"
        },
        "outputId": "a8872a62-8513-48c6-86c5-109e0c5b26a4"
      },
      "source": [
        "!git clone https://github.com/gervini/data\n",
        "%cd data/\n",
        "!ls"
      ],
      "execution_count": 1,
      "outputs": [
        {
          "output_type": "stream",
          "text": [
            "Cloning into 'data'...\n",
            "remote: Enumerating objects: 12, done.\u001b[K\n",
            "remote: Counting objects: 100% (12/12), done.\u001b[K\n",
            "remote: Compressing objects: 100% (8/8), done.\u001b[K\n",
            "remote: Total 12 (delta 0), reused 0 (delta 0), pack-reused 0\u001b[K\n",
            "Unpacking objects: 100% (12/12), done.\n",
            "/content/data\n",
            "colab_0.ipynb\n"
          ],
          "name": "stdout"
        }
      ]
    },
    {
      "cell_type": "markdown",
      "metadata": {
        "id": "NoNfNKxYECQU"
      },
      "source": [
        "!!! Incrivel ele Montou o drive sem eu pedir !!!"
      ]
    },
    {
      "cell_type": "code",
      "metadata": {
        "colab": {
          "base_uri": "https://localhost:8080/"
        },
        "id": "-LrjlXvwEBbk",
        "outputId": "75196d29-d82e-4bf9-9547-df79fb9f7ffa"
      },
      "source": [
        "!ln -s /content/drive/My\\ Drive/ /mydrive\n",
        "%cd /mydrive"
      ],
      "execution_count": 2,
      "outputs": [
        {
          "output_type": "stream",
          "text": [
            "/content/drive/My Drive\n"
          ],
          "name": "stdout"
        }
      ]
    },
    {
      "cell_type": "code",
      "metadata": {
        "id": "PIdQ2w5PEl90"
      },
      "source": [
        ""
      ],
      "execution_count": 3,
      "outputs": []
    }
  ]
}