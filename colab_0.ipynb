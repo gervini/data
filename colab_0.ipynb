{
  "nbformat": 4,
  "nbformat_minor": 0,
  "metadata": {
    "colab": {
      "name": "colab_0.ipynb",
      "provenance": [],
      "mount_file_id": "1jfKIRuUHUsymwV2hsQ-8w_Y32R_cJRyk",
      "authorship_tag": "ABX9TyPfFeZS9UNd6tXgJ87bPPdu",
      "include_colab_link": true
    },
    "kernelspec": {
      "name": "python3",
      "display_name": "Python 3"
    },
    "language_info": {
      "name": "python"
    }
  },
  "cells": [
    {
      "cell_type": "markdown",
      "metadata": {
        "id": "view-in-github",
        "colab_type": "text"
      },
      "source": [
        "<a href=\"https://colab.research.google.com/github/gervini/data/blob/main/colab_0.ipynb\" target=\"_parent\"><img src=\"https://colab.research.google.com/assets/colab-badge.svg\" alt=\"Open In Colab\"/></a>"
      ]
    },
    {
      "cell_type": "code",
      "metadata": {
        "id": "L2MrzyiPiMHU",
        "colab": {
          "base_uri": "https://localhost:8080/"
        },
        "outputId": "f8e4565c-e1ad-4652-abe7-321eec35c8cf"
      },
      "source": [
        "import os\n",
        "\n",
        "%cd /content/\n",
        "if not os.path.exists('data'):\n",
        "  !git clone https://github.com/gervini/data\n",
        "print('-------------')\n",
        "%cd data/\n",
        "!ls\n",
        "print('-------------')\n",
        "\n",
        "# Cria Atalho 'mydrive' para Google Drive caso não exista\n",
        "if not os.path.exists('/mydrive'):\n",
        "  !ln -s /content/drive/My\\ Drive/ /mydrive\n",
        "#!rm -rf /mydrive/   # CUIDADO APAGA TUDO DO DRIVE\n",
        "%cd /mydrive/\n",
        "!ls\n",
        "\n"
      ],
      "execution_count": 22,
      "outputs": [
        {
          "output_type": "stream",
          "text": [
            "/content\n",
            "-------------\n",
            "/content/data\n",
            "colab_0.ipynb\n",
            "-------------\n",
            "/content/drive/My Drive\n",
            "'Colab Notebooks'   rwn.py  'São Miguel 2021_05_08x'   yolo\n"
          ],
          "name": "stdout"
        }
      ]
    },
    {
      "cell_type": "code",
      "metadata": {
        "id": "-LrjlXvwEBbk",
        "colab": {
          "base_uri": "https://localhost:8080/"
        },
        "outputId": "596ca929-2b72-4b3b-9763-92d72d443625"
      },
      "source": [
        ""
      ],
      "execution_count": null,
      "outputs": [
        {
          "output_type": "stream",
          "text": [
            "/content/drive/My Drive\n",
            "'Colab Notebooks'   rwn.py  'São Miguel 2021_05_08x'   yolo\n"
          ],
          "name": "stdout"
        }
      ]
    },
    {
      "cell_type": "code",
      "metadata": {
        "id": "PIdQ2w5PEl90"
      },
      "source": [
        ""
      ],
      "execution_count": null,
      "outputs": []
    }
  ]
}